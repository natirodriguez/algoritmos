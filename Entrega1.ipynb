{
 "cells": [
  {
   "cell_type": "code",
   "execution_count": 121,
   "metadata": {},
   "outputs": [],
   "source": [
    "import random\n",
    "import timeit\n",
    "import matplotlib.pyplot as plt\n",
    "import numpy as np\n",
    "import scipy as sp\n",
    "import scipy.special\n",
    "import math as m"
   ]
  },
  {
   "cell_type": "code",
   "execution_count": 122,
   "metadata": {},
   "outputs": [],
   "source": [
    "def BusquedaSecuencial(A, b):\n",
    "    if (len(A) == 2):\n",
    "        if(A[0]==b or A[1]==b):\n",
    "            return \"Se encontro el elemento\"\n",
    "    if (len(A) == 1 and A[0]==b):\n",
    "            return \"Se encontro el elemento\"        \n",
    "    return \"No existe el elemento\"\n",
    "\n",
    "def Ternaria(A, b):\n",
    "    n = len(A)\n",
    "    if (n < 3):\n",
    "        return BusquedaSecuencial(A,b)\n",
    "    else:\n",
    "        tercioN = n//3\n",
    "        if (n == A[tercioN]):\n",
    "            return \"Se encontro el elemento\" \n",
    "        else: \n",
    "            if (b < A[tercioN]):\n",
    "                return Ternaria(A[0:tercioN],b)\n",
    "            elif (b < A[tercioN*2]):\n",
    "                return Ternaria(A[tercioN:tercioN*2], b)\n",
    "            else: \n",
    "                return Ternaria(A[tercioN*2:], b)\n",
    "\n",
    "def Binaria(A, b):\n",
    "    if len(A) == 0:\n",
    "        return \"No se encontro el elemento\"\n",
    "    else:\n",
    "        mitad = len(A)//2\n",
    "        if (A[mitad] == b):\n",
    "            return \"Se encontro el elemento\" \n",
    "        else:\n",
    "            if (b < A[mitad]):\n",
    "                return Binaria(A[:mitad],b)\n",
    "            else:\n",
    "                return Binaria(A[mitad+1:],b)"
   ]
  },
  {
   "cell_type": "code",
   "execution_count": 123,
   "metadata": {},
   "outputs": [
    {
     "name": "stdout",
     "output_type": "stream",
     "text": [
      "Binaria busca 1: Se encontro el elemento\n",
      "Ternaria busca 1: Se encontro el elemento\n",
      "Binaria busca 11: Se encontro el elemento\n",
      "Ternaria busca 11: Se encontro el elemento\n",
      "Binaria busca 21: Se encontro el elemento\n",
      "Ternaria busca 21: Se encontro el elemento\n",
      "Binaria busca 31: Se encontro el elemento\n",
      "Ternaria busca 31: Se encontro el elemento\n",
      "Binaria busca 41: Se encontro el elemento\n",
      "Ternaria busca 41: Se encontro el elemento\n",
      "Binaria busca 51: Se encontro el elemento\n",
      "Ternaria busca 51: Se encontro el elemento\n",
      "Binaria busca 61: Se encontro el elemento\n",
      "Ternaria busca 61: Se encontro el elemento\n",
      "Binaria busca 71: Se encontro el elemento\n",
      "Ternaria busca 71: Se encontro el elemento\n",
      "Binaria busca 81: Se encontro el elemento\n",
      "Ternaria busca 81: Se encontro el elemento\n",
      "Binaria busca 91: Se encontro el elemento\n",
      "Ternaria busca 91: Se encontro el elemento\n",
      "Binaria busca 101: Se encontro el elemento\n",
      "Ternaria busca 101: Se encontro el elemento\n",
      "Binaria busca 111: Se encontro el elemento\n",
      "Ternaria busca 111: Se encontro el elemento\n",
      "Binaria busca 121: Se encontro el elemento\n",
      "Ternaria busca 121: Se encontro el elemento\n",
      "Binaria busca 131: Se encontro el elemento\n",
      "Ternaria busca 131: Se encontro el elemento\n",
      "Binaria busca 141: Se encontro el elemento\n",
      "Ternaria busca 141: Se encontro el elemento\n",
      "Binaria busca 151: Se encontro el elemento\n",
      "Ternaria busca 151: Se encontro el elemento\n",
      "Binaria busca 161: Se encontro el elemento\n",
      "Ternaria busca 161: Se encontro el elemento\n",
      "Binaria busca 171: Se encontro el elemento\n",
      "Ternaria busca 171: Se encontro el elemento\n",
      "Binaria busca 181: Se encontro el elemento\n",
      "Ternaria busca 181: Se encontro el elemento\n",
      "Binaria busca 191: Se encontro el elemento\n",
      "Ternaria busca 191: Se encontro el elemento\n"
     ]
    },
    {
     "data": {
      "text/plain": [
       "<matplotlib.legend.Legend at 0x9472ba8ca0>"
      ]
     },
     "execution_count": 123,
     "metadata": {},
     "output_type": "execute_result"
    },
    {
     "data": {
      "image/png": "[encoded data removed]",
      "text/plain": [
       "<Figure size 432x288 with 1 Axes>"
      ]
     },
     "metadata": {
      "needs_background": "light"
     },
     "output_type": "display_data"
    }
   ],
   "source": [
    "n_min=1\n",
    "n_max=200\n",
    "iteraciones = 2\n",
    "st=10\n",
    "tiempo = 1\n",
    "\n",
    "t_binaria = list()\n",
    "t_ternaria = list()\n",
    "for n in range(n_min, n_max, st):\n",
    "    sumaB = 0\n",
    "    sumaT = 0\n",
    "    v = list(range(1, n_max))\n",
    "    for i in range(1,iteraciones):\n",
    "        print(\"Binaria busca \" + str(n) + \": \"+ Binaria(v,n))\n",
    "        sumaB += timeit.timeit(lambda: Binaria(v,n), number = tiempo)\n",
    "        print(\"Ternaria busca \" + str(n) + \": \"+ Ternaria(v,n))\n",
    "        sumaT += timeit.timeit(lambda: Ternaria(v,n), number = tiempo)\n",
    "    promedioB = sumaB / iteraciones\n",
    "    promedioT = sumaT / iteraciones\n",
    "    t_binaria.append(promedioB)\n",
    "    t_ternaria.append(promedioT)\n",
    "    \n",
    "eje_x = list(range(n_min, n_max, st))\n",
    "plt.plot(eje_x, t_binaria, label = 'binaria')\n",
    "plt.plot(eje_x, t_ternaria, label = 'ternaria')\n",
    "plt.xlabel('Tiempo')\n",
    "plt.ylabel('Número N')\n",
    "\n",
    "plt.legend()"
   ]
  },
  {
   "cell_type": "code",
   "execution_count": null,
   "metadata": {},
   "outputs": [],
   "source": []
  },
  {
   "cell_type": "code",
   "execution_count": null,
   "metadata": {},
   "outputs": [],
   "source": []
  }
 ],
 "metadata": {
  "kernelspec": {
   "display_name": "Python 3",
   "language": "python",
   "name": "python3"
  },
  "language_info": {
   "codemirror_mode": {
    "name": "ipython",
    "version": 3
   },
   "file_extension": ".py",
   "mimetype": "text/x-python",
   "name": "python",
   "nbconvert_exporter": "python",
   "pygments_lexer": "ipython3",
   "version": "3.8.3"
  }
 },
 "nbformat": 4,
 "nbformat_minor": 4
}
